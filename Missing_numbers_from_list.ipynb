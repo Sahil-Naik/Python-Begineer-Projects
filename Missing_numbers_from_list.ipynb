{
 "cells": [
  {
   "cell_type": "code",
   "execution_count": 4,
   "metadata": {
    "scrolled": true
   },
   "outputs": [
    {
     "name": "stdout",
     "output_type": "stream",
     "text": [
      "Enter how many elements to add : 3\n",
      "Enter your numbers : 1\n",
      "Enter your numbers : 2\n",
      "Enter your numbers : 6\n",
      "\n",
      "What to do with your list?\n",
      "1 = Find missing numbers from the sequence\n",
      "2 = Print list\n",
      "Enter your Choice : 1\n",
      "Missing numbers from the list are :\n",
      "[3, 4, 5]\n"
     ]
    }
   ],
   "source": [
    "def miss(list):\n",
    "    return [a for a in range(list[0],list[-1]) if a not in list]\n",
    "l1 = []\n",
    "k = int(input(\"Enter how many elements to add : \"))\n",
    "for i in range(k):\n",
    "    b = int(input(\"Enter your numbers : \"))\n",
    "    l1.append(b)\n",
    "print(\"\\nWhat to do with your list?\\n1 = Find missing numbers from the sequence\\n2 = Print list\")\n",
    "c = int(input(\"Enter your Choice : \"))\n",
    "if c == 1:\n",
    "    print(\"Missing numbers from the list are :\")\n",
    "    print(miss(l1))\n",
    "elif c == 2:\n",
    "    print(\"Your list is\",l1)\n",
    "else:\n",
    "    print(\"Invalid Choice!\")"
   ]
  },
  {
   "cell_type": "code",
   "execution_count": null,
   "metadata": {},
   "outputs": [],
   "source": []
  }
 ],
 "metadata": {
  "kernelspec": {
   "display_name": "Python 3",
   "language": "python",
   "name": "python3"
  },
  "language_info": {
   "codemirror_mode": {
    "name": "ipython",
    "version": 3
   },
   "file_extension": ".py",
   "mimetype": "text/x-python",
   "name": "python",
   "nbconvert_exporter": "python",
   "pygments_lexer": "ipython3",
   "version": "3.8.5"
  }
 },
 "nbformat": 4,
 "nbformat_minor": 4
}
