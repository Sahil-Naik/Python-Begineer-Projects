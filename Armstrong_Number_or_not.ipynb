{
 "cells": [
  {
   "cell_type": "code",
   "execution_count": 13,
   "metadata": {
    "scrolled": false
   },
   "outputs": [
    {
     "name": "stdout",
     "output_type": "stream",
     "text": [
      "Enter 3 digit number : 9714\n",
      "4\n",
      "1\n",
      "7\n",
      "9\n",
      "Its not an Armstrong Number!\n"
     ]
    }
   ],
   "source": [
    "# Armstrong number is a number that is equal to the sum of cubes of its digits\n",
    "b = int(input(\"Enter 3 digit number : \"))\n",
    "sum1 = 0\n",
    "temp = b\n",
    "while temp > 0:\n",
    "    digit = temp % 10           # This is use to break 3digit number into 1's (e.g. 710 = 7 1 0)\n",
    "    sum1 += digit ** 3\n",
    "    print(digit)\n",
    "    temp //= 10\n",
    "if b == sum1:\n",
    "    print(\"Its an Armstrong Number!\")\n",
    "else:\n",
    "    print(\"Its not an Armstrong Number!\")"
   ]
  }
 ],
 "metadata": {
  "kernelspec": {
   "display_name": "Python 3",
   "language": "python",
   "name": "python3"
  },
  "language_info": {
   "codemirror_mode": {
    "name": "ipython",
    "version": 3
   },
   "file_extension": ".py",
   "mimetype": "text/x-python",
   "name": "python",
   "nbconvert_exporter": "python",
   "pygments_lexer": "ipython3",
   "version": "3.8.5"
  }
 },
 "nbformat": 4,
 "nbformat_minor": 4
}
