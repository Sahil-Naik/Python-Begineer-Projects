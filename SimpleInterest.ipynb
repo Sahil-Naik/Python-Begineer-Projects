{
 "cells": [
  {
   "cell_type": "code",
   "execution_count": 4,
   "metadata": {},
   "outputs": [
    {
     "name": "stdout",
     "output_type": "stream",
     "text": [
      "Enter Principal Value :5000\n",
      "Enter annual interest rate : 11\n",
      "Enter duration or loan/deposit : 36\n",
      "Enter final amount : 50000\n",
      "Simple interest =  19800.0\n"
     ]
    }
   ],
   "source": [
    "#Program to calaculate simple interest and compound interest\n",
    "P = float(input(\"Enter Principal Value :\"))\n",
    "R = float(input(\"Enter annual interest rate : \"))\n",
    "T = float(input(\"Enter duration or loan/deposit : \"))\n",
    "A = float(input(\"Enter final amount : \"))\n",
    "S_I = (P * R * T) / 100\n",
    "print(\"Simple interest = \", S_I)"
   ]
  }
 ],
 "metadata": {
  "kernelspec": {
   "display_name": "Python 3",
   "language": "python",
   "name": "python3"
  },
  "language_info": {
   "codemirror_mode": {
    "name": "ipython",
    "version": 3
   },
   "file_extension": ".py",
   "mimetype": "text/x-python",
   "name": "python",
   "nbconvert_exporter": "python",
   "pygments_lexer": "ipython3",
   "version": "3.8.5"
  }
 },
 "nbformat": 4,
 "nbformat_minor": 4
}
