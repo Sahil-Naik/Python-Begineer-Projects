{
 "cells": [
  {
   "cell_type": "code",
   "execution_count": 2,
   "metadata": {
    "scrolled": false
   },
   "outputs": [
    {
     "name": "stdout",
     "output_type": "stream",
     "text": [
      "________CALCULATOR________\n",
      "Enter 1st number = 20\n",
      "Enter 2nd number = 45\n",
      "\n",
      "Select a task to perform!\n",
      "\n",
      " 1 = Addition \n",
      " 2 = Subtraction \n",
      " 3 = Multiplication \n",
      " 4 = Division \n",
      " 5 = Square root \n",
      " 6 = Exit\n",
      "Enter your Choice = 4\n",
      "You've choosen Division!\n",
      "Division of given numbers is =  0.4444444444444444\n"
     ]
    }
   ],
   "source": [
    "import math\n",
    "print(\"________CALCULATOR________\")\n",
    "a = int(input(\"Enter 1st number = \"))\n",
    "b = int(input(\"Enter 2nd number = \"))\n",
    "print(\"\\nSelect a task to perform!\")\n",
    "print(\"\\n 1 = Addition \\n 2 = Subtraction \\n 3 = Multiplication \\n 4 = Division \\n 5 = Square root \\n 6 = Exit\")\n",
    "c = int(input(\"Enter your Choice = \"))\n",
    "if c == 1:\n",
    "    print(\"You've choosen Addition!\")\n",
    "    c = a + b\n",
    "    print(\"Addition of given numbers is = \", c)\n",
    "elif c == 2:\n",
    "    print(\"You've choosen Subtraction!\")\n",
    "    c = a - b\n",
    "    print(\"Subtraction of given numbers is = \", c)\n",
    "elif c == 3:\n",
    "    print(\"You've choosen Multiplication!\")\n",
    "    c = a * b\n",
    "    print(\"Multiplication of given numbers is = \", c)\n",
    "elif c == 4:\n",
    "    print(\"You've choosen Division!\")\n",
    "    c = a/b\n",
    "    print(\"Division of given numbers is = \", c)\n",
    "elif c == 5:\n",
    "    print(\"You've choosen SquareRoot!\")\n",
    "    e = math.sqrt(a)\n",
    "    f = math.sqrt(b)\n",
    "    print(\"Square-root of 1st number is = \", e)\n",
    "    print(\"Square-root of 2nd number is = \", f)\n",
    "elif c == 6:\n",
    "    print(\"Exiting...\")\n",
    "else:\n",
    "    print(\"Invalid Choice!\")\n"
   ]
  },
  {
   "cell_type": "code",
   "execution_count": null,
   "metadata": {},
   "outputs": [],
   "source": []
  }
 ],
 "metadata": {
  "kernelspec": {
   "display_name": "Python 3",
   "language": "python",
   "name": "python3"
  },
  "language_info": {
   "codemirror_mode": {
    "name": "ipython",
    "version": 3
   },
   "file_extension": ".py",
   "mimetype": "text/x-python",
   "name": "python",
   "nbconvert_exporter": "python",
   "pygments_lexer": "ipython3",
   "version": "3.8.5"
  }
 },
 "nbformat": 4,
 "nbformat_minor": 4
}
