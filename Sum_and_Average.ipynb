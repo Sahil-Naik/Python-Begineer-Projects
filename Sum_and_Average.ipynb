{
 "cells": [
  {
   "cell_type": "code",
   "execution_count": 24,
   "metadata": {
    "scrolled": true
   },
   "outputs": [
    {
     "name": "stdout",
     "output_type": "stream",
     "text": [
      "Enter n numbers : 55\n",
      "Sum of given numbers is 1540\n",
      "Average of given numbers is 28.0\n"
     ]
    }
   ],
   "source": [
    "num = int(input(\"Enter n numbers : \"))\n",
    "sum1 = 0\n",
    "avg1 = 0\n",
    "for i in range(1,num+1):\n",
    "    sum1 = sum1 + i\n",
    "    avg1 = sum1/num\n",
    "print(\"Sum of given numbers is\", sum1)\n",
    "print(\"Average of given numbers is\", avg1)"
   ]
  },
  {
   "cell_type": "code",
   "execution_count": null,
   "metadata": {},
   "outputs": [],
   "source": []
  }
 ],
 "metadata": {
  "kernelspec": {
   "display_name": "Python 3",
   "language": "python",
   "name": "python3"
  },
  "language_info": {
   "codemirror_mode": {
    "name": "ipython",
    "version": 3
   },
   "file_extension": ".py",
   "mimetype": "text/x-python",
   "name": "python",
   "nbconvert_exporter": "python",
   "pygments_lexer": "ipython3",
   "version": "3.8.5"
  }
 },
 "nbformat": 4,
 "nbformat_minor": 4
}
