{
 "cells": [
  {
   "cell_type": "markdown",
   "id": "4eb767b8",
   "metadata": {},
   "source": [
    "## What Void?\n",
    "\n",
    "The problem is really simple, take any number between 0 to 9, if the number you've choosen is Even then divide it by 2, if the choosen number is Odd, we multiply it by 3 and then add 1 to it. We keep doing the same on the resultant too.\n",
    "\n",
    "For instance, if I choose 6! Which is Even, the steps will be:\n",
    "1) Divide 6 by 2 = 6/2 = We get 3. Which is odd.<br>\n",
    "2) Multiply 3 by 3 and add 1 = (3x3)+1 = We get 10. Which is Even.<br>\n",
    "3) 10/2 = 5 (Odd)<br>\n",
    "4) 3x5+1 = 16 (Even)<br>\n",
    "5) 16/2 = 8 (Even)<br>\n",
    "6) 8/2 = 4 (Even)<br>\n",
    "7) 4/2 = 2 (Even)<br>\n",
    "8) 2/2 = 1 (Odd)<br>\n",
    "This is where the problem occurs!<br>\n",
    "9) 3x1+1 = 4 (Even)<br>\n",
    "10) 4/2 = 2 (Even)<br>\n",
    "11) 2/2 = 1 (Odd)<br>\n",
    "\n",
    "The steps 6, 7 & 8 are going to be repeated infinitely. No matter which number you pick, if you apply this rule, you will always end up with 4, 2 & 1 in your sequence.\n",
    "\n",
    "The code belows helps you to demonstrate."
   ]
  },
  {
   "cell_type": "code",
   "execution_count": null,
   "id": "cab6887e",
   "metadata": {},
   "outputs": [
    {
     "name": "stdout",
     "output_type": "stream",
     "text": [
      "Enter a number between 0-9: 6\n"
     ]
    }
   ],
   "source": [
    "get = int(input(\"Enter a number between 0-9: \"))\n",
    "recur = int(input(\"How many times to iterate: \"))\n",
    "print(\"{} is the entered number.\".format(get))\n",
    "for i in range(recur):\n",
    "    if get%2 == 0:                  #If even, this code gets executed.\n",
    "        get = get/2\n",
    "        print(round(get))\n",
    "    else:                           #If odd, this code gets executed.\n",
    "        get = (3*get)+1\n",
    "        print(round(get))"
   ]
  }
 ],
 "metadata": {
  "kernelspec": {
   "display_name": "Python 3",
   "language": "python",
   "name": "python3"
  },
  "language_info": {
   "codemirror_mode": {
    "name": "ipython",
    "version": 3
   },
   "file_extension": ".py",
   "mimetype": "text/x-python",
   "name": "python",
   "nbconvert_exporter": "python",
   "pygments_lexer": "ipython3",
   "version": "3.8.8"
  }
 },
 "nbformat": 4,
 "nbformat_minor": 5
}
