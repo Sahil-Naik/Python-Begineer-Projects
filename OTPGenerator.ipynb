{
 "cells": [
  {
   "cell_type": "code",
   "execution_count": 2,
   "metadata": {},
   "outputs": [
    {
     "name": "stdout",
     "output_type": "stream",
     "text": [
      "Your new OTP is : 1945\n",
      "Enter your OTP : 8456\n",
      "OTP Declined!\n"
     ]
    }
   ],
   "source": [
    "import random\n",
    "a = random.randint(1000,9999)\n",
    "print(\"Your new OTP is :\",a)\n",
    "b = int(input(\"Enter your OTP : \"))\n",
    "if b == a:\n",
    "    print(\"OTP Accepted!\")\n",
    "else:\n",
    "    print(\"OTP Declined!\")"
   ]
  },
  {
   "cell_type": "code",
   "execution_count": null,
   "metadata": {},
   "outputs": [],
   "source": []
  }
 ],
 "metadata": {
  "kernelspec": {
   "display_name": "Python 3",
   "language": "python",
   "name": "python3"
  },
  "language_info": {
   "codemirror_mode": {
    "name": "ipython",
    "version": 3
   },
   "file_extension": ".py",
   "mimetype": "text/x-python",
   "name": "python",
   "nbconvert_exporter": "python",
   "pygments_lexer": "ipython3",
   "version": "3.8.5"
  }
 },
 "nbformat": 4,
 "nbformat_minor": 4
}
