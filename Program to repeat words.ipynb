{
 "cells": [
  {
   "cell_type": "code",
   "execution_count": 19,
   "metadata": {
    "scrolled": true
   },
   "outputs": [
    {
     "name": "stdout",
     "output_type": "stream",
     "text": [
      "Enter the word to be repeated = sahil\n",
      "Enter how many time to repeat = -2\n",
      "Words can't be repeated for neagtive time! :/\n"
     ]
    }
   ],
   "source": [
    "a = input(\"Enter the word to be repeated = \")\n",
    "b = int(input(\"Enter how many time to repeat = \"))\n",
    "def func():\n",
    "    if b > 0:\n",
    "        for i in range(b): \n",
    "            print(a)\n",
    "    elif b == 0:\n",
    "        print(\"Nothing repeated\")\n",
    "    else:\n",
    "        print(\"Words can't be repeated for neagtive time! :/\")\n",
    "func()        "
   ]
  },
  {
   "cell_type": "code",
   "execution_count": null,
   "metadata": {},
   "outputs": [],
   "source": []
  }
 ],
 "metadata": {
  "kernelspec": {
   "display_name": "Python 3",
   "language": "python",
   "name": "python3"
  },
  "language_info": {
   "codemirror_mode": {
    "name": "ipython",
    "version": 3
   },
   "file_extension": ".py",
   "mimetype": "text/x-python",
   "name": "python",
   "nbconvert_exporter": "python",
   "pygments_lexer": "ipython3",
   "version": "3.8.5"
  }
 },
 "nbformat": 4,
 "nbformat_minor": 4
}
