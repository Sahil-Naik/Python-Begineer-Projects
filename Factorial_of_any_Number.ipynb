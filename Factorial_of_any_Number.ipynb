{
 "cells": [
  {
   "cell_type": "code",
   "execution_count": 9,
   "metadata": {},
   "outputs": [
    {
     "name": "stdout",
     "output_type": "stream",
     "text": [
      "Enter limit of factorial : 5\n",
      "Factorial of 5 is 120 !\n"
     ]
    }
   ],
   "source": [
    "def fac_num(n):\n",
    "    \n",
    "    if n == 1:\n",
    "        return n\n",
    "    else:\n",
    "        return n*fac_num(n-1)\n",
    "    \n",
    "num = int(input(\"Enter limit of factorial : \"))\n",
    "\n",
    "if num < 0:\n",
    "    print(\"Factorial number of neagtive numbers does not exist!\")\n",
    "    \n",
    "elif num == 0:\n",
    "    print(\"Factorial of 0 is 1!\")\n",
    "    \n",
    "else:\n",
    "    print(\"Factorial of\",num,\"is\",fac_num(num),\"!\")"
   ]
  },
  {
   "cell_type": "code",
   "execution_count": null,
   "metadata": {},
   "outputs": [],
   "source": []
  }
 ],
 "metadata": {
  "kernelspec": {
   "display_name": "Python 3",
   "language": "python",
   "name": "python3"
  },
  "language_info": {
   "codemirror_mode": {
    "name": "ipython",
    "version": 3
   },
   "file_extension": ".py",
   "mimetype": "text/x-python",
   "name": "python",
   "nbconvert_exporter": "python",
   "pygments_lexer": "ipython3",
   "version": "3.8.5"
  }
 },
 "nbformat": 4,
 "nbformat_minor": 4
}
