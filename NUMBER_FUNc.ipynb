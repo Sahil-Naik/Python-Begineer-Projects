{
 "cells": [
  {
   "cell_type": "code",
   "execution_count": 2,
   "metadata": {},
   "outputs": [
    {
     "name": "stdout",
     "output_type": "stream",
     "text": [
      "Enter a number : 9\n",
      "Sqaure root of given number is 3.0\n",
      "Sqaure of given number is 81\n",
      "Cube of given number is 729\n",
      "Factorial of given number is 362880\n",
      "Prime Factors of given number is =\n",
      "3\n",
      "3\n",
      "Given number is not Prime number!\n",
      "3 times 3 is 9\n"
     ]
    }
   ],
   "source": [
    "import math    #importing library\n",
    "n1 = int(input(\"Enter a number : \"))\n",
    "fact=1\n",
    "print(\"Sqaure root of given number is\",math.sqrt(n1))\n",
    "\n",
    "print(\"Sqaure of given number is\",n1**2)\n",
    "\n",
    "print(\"Cube of given number is\",n1**3)\n",
    "#Factorial of a number\n",
    "for i in range(1,n1+1):\n",
    "    fact = fact * i\n",
    "print(\"Factorial of given number is\",fact)\n",
    "\n",
    "# Python program to print prime factors\n",
    "import math\n",
    "def primeFactors(n):\n",
    "    while n % 2 == 0:\n",
    "        print(2)\n",
    "        n = n / 2\n",
    "    for i in range(3,int(math.sqrt(n))+1,2):\n",
    "        while n % i== 0:\n",
    "            print(i)\n",
    "            n = n / i\n",
    "    if n > 2:\n",
    "        print(n)\n",
    "n = n1\n",
    "print(\"Prime Factors of given number is =\")\n",
    "b = primeFactors(n)\n",
    "\n",
    "num = n1\n",
    "if num > 1:\n",
    "    for c in range(2,num):\n",
    "        if num % c == 0:\n",
    "            print(\"Given number is not Prime number!\")\n",
    "            print(c,\"times\",num//c,\"is\",num)\n",
    "            break\n",
    "    else:\n",
    "        print(\"Given number is a Prime number!\")\n",
    "else:\n",
    "    print(\"Given number is a Prime number\")"
   ]
  },
  {
   "cell_type": "code",
   "execution_count": null,
   "metadata": {},
   "outputs": [],
   "source": []
  }
 ],
 "metadata": {
  "kernelspec": {
   "display_name": "Python 3",
   "language": "python",
   "name": "python3"
  },
  "language_info": {
   "codemirror_mode": {
    "name": "ipython",
    "version": 3
   },
   "file_extension": ".py",
   "mimetype": "text/x-python",
   "name": "python",
   "nbconvert_exporter": "python",
   "pygments_lexer": "ipython3",
   "version": "3.8.5"
  }
 },
 "nbformat": 4,
 "nbformat_minor": 4
}
