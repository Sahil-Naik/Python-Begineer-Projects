{
 "cells": [
  {
   "cell_type": "code",
   "execution_count": 32,
   "metadata": {
    "scrolled": true
   },
   "outputs": [
    {
     "name": "stdout",
     "output_type": "stream",
     "text": [
      "\tENTER YOUR MARKS FOR EACH SUBJECT\n",
      "\tPlease enters marks obtained out of 100!\n",
      "\n",
      "\n",
      "Enter Mathematics I marks : 8\n",
      "Enter Mathematics II marks : 4\n",
      "Enter Physics marks : 5\n",
      "Enter Chemistry marks : 6\n",
      "Enter PPS marks : 4\n",
      "Total marks obtained are 27.0 / 500\n",
      "Percentage obtained are : 5.4 %\n",
      "The student has FAILED!\n"
     ]
    }
   ],
   "source": [
    "#Program to find grade of student\n",
    "print(\"\\tENTER YOUR MARKS FOR EACH SUBJECT\")\n",
    "print(\"\\tPlease enter marks obtained out of 100!\\n\\n\")\n",
    "#taking values of marks\n",
    "maths = float(input(\"Enter Mathematics I marks : \"))\n",
    "maths2 = float(input(\"Enter Mathematics II marks : \")) \n",
    "phy = float(input(\"Enter Physics marks : \"))\n",
    "chem = float(input(\"Enter Chemistry marks : \"))\n",
    "pps = float(input(\"Enter PPS marks : \"))\n",
    "#calculating total marks and percentage of student\n",
    "total = maths+maths2+phy+chem+pps\n",
    "print(\"Total marks obtained are\",total,\"/ 500\")\n",
    "per = (total/500)*100\n",
    "print(\"Percentage obtained are :\",per,\"%\")\n",
    "\n",
    "if (per >= 75 and per <= 100):\n",
    "    print(\"The grade obtained by student is DISTINCTION!\")\n",
    "elif (per < 75 and per >= 60):\n",
    "    print(\"The grade obtained by student is 1st DIVISION!\")\n",
    "elif (per < 60 and per >= 50):\n",
    "    print(\"The grade obtained by student is 2nd DIVISION!\")\n",
    "elif (per < 50 and per >= 40):\n",
    "    print(\"The grade obtained by student is 3rd DIVISION!\")\n",
    "else:\n",
    "    print(\"The student has FAILED!\")"
   ]
  },
  {
   "cell_type": "code",
   "execution_count": null,
   "metadata": {},
   "outputs": [],
   "source": []
  }
 ],
 "metadata": {
  "kernelspec": {
   "display_name": "Python 3",
   "language": "python",
   "name": "python3"
  },
  "language_info": {
   "codemirror_mode": {
    "name": "ipython",
    "version": 3
   },
   "file_extension": ".py",
   "mimetype": "text/x-python",
   "name": "python",
   "nbconvert_exporter": "python",
   "pygments_lexer": "ipython3",
   "version": "3.8.5"
  }
 },
 "nbformat": 4,
 "nbformat_minor": 4
}
