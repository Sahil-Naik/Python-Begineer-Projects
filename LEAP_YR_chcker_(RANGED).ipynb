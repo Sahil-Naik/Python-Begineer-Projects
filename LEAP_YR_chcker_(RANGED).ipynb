{
 "cells": [
  {
   "cell_type": "code",
   "execution_count": 31,
   "metadata": {
    "scrolled": true
   },
   "outputs": [
    {
     "name": "stdout",
     "output_type": "stream",
     "text": [
      "Enter start year: 1991\n",
      "Enter end year: 2013\n",
      "Here is a list of leap years between 1991 and 2013:\n",
      "1992\n",
      "1996\n",
      "2000\n",
      "2004\n",
      "2008\n",
      "2012\n"
     ]
    }
   ],
   "source": [
    "start = int(input(\"Enter start year: \"))\n",
    "end = int(input(\"Enter end year: \"))\n",
    "\n",
    "if start > end:\n",
    "    print(\"Check your year input again.\")\n",
    "else:\n",
    "    print (\"Here is a list of leap years between \" + str(start) + \" and \" + str(end)  + \":\")\n",
    "    while(start <= end):  \n",
    "        if start % 100 == 0 and start % 400 == 0:\n",
    "            print(start)\n",
    "            start += 1\n",
    "        if start % 4 == 0 and start % 100 != 0:\n",
    "            print(start)\n",
    "            start += 1\n",
    "        else:\n",
    "            start += 1"
   ]
  },
  {
   "cell_type": "code",
   "execution_count": null,
   "metadata": {},
   "outputs": [],
   "source": []
  }
 ],
 "metadata": {
  "kernelspec": {
   "display_name": "Python 3",
   "language": "python",
   "name": "python3"
  },
  "language_info": {
   "codemirror_mode": {
    "name": "ipython",
    "version": 3
   },
   "file_extension": ".py",
   "mimetype": "text/x-python",
   "name": "python",
   "nbconvert_exporter": "python",
   "pygments_lexer": "ipython3",
   "version": "3.8.5"
  }
 },
 "nbformat": 4,
 "nbformat_minor": 4
}
