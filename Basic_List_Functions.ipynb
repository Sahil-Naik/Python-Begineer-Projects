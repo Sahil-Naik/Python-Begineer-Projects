{
 "cells": [
  {
   "cell_type": "code",
   "execution_count": 26,
   "metadata": {
    "scrolled": true
   },
   "outputs": [
    {
     "name": "stdout",
     "output_type": "stream",
     "text": [
      "Enter how many elements to insert in the list : 2\n",
      "Enter elements to insert : Reel\n",
      "Enter elements to insert : Real\n",
      "List = ['Reel', 'Real']\n",
      "Enter number of elements to delete : 0\n",
      "No elements were deleted!\n",
      "List = ['Reel', 'Real']\n",
      "Enter what you want to do with your new list!\n",
      "1. Reverse list?\n",
      "2. Sort list?\n",
      "3. Find list length?\n",
      "4. Count specific elements appeared?\n",
      "Enter Choice : 1\n",
      "Original List : ['Reel', 'Real']\n",
      "New List : ['Real', 'Reel']\n"
     ]
    }
   ],
   "source": [
    "#Declaring a list\n",
    "n = int(input(\"Enter how many elements to insert in the list : \"))\n",
    "list1 = []\n",
    "#Adding elements to out empty list!\n",
    "if n == 0:\n",
    "    print(\"No elements can be inserted!\")\n",
    "    print(\"List =\",list1)\n",
    "    \n",
    "elif n < 0:\n",
    "    print(\"Please enter positive integers only!\")\n",
    "    \n",
    "else:\n",
    "    for i in range(0,n):\n",
    "        add = input(\"Enter elements to insert : \")\n",
    "        list1.append(add)\n",
    "    print(\"List =\",list1)\n",
    "lent = len(list1)\n",
    "#Deleting an elements from list\n",
    "dl = int(input(\"Enter number of elements to delete : \"))\n",
    "if dl == 0:\n",
    "    print(\"No elements were deleted!\")\n",
    "    print(\"List =\",list1)\n",
    "    \n",
    "elif dl < 0:\n",
    "    print(\"Please enter positive integers only!\")\n",
    "    \n",
    "elif dl > lent:\n",
    "    print(\"Number of deleted item will be greater than list itself!\")\n",
    "    print(\"Enter values to delete less than total numbers in list!\")\n",
    "    \n",
    "else:\n",
    "    for k in range(0,dl):\n",
    "        cut = input(\"Enter element to delete : \")\n",
    "        list1.remove(cut)\n",
    "    print(\"New List =\",list1)\n",
    "#Further things to do with our new list!    \n",
    "print(\"Enter what you want to do with your new list!\")\n",
    "print(\"1. Reverse list?\")\n",
    "print(\"2. Sort list?\")\n",
    "print(\"3. Find list length?\")\n",
    "print(\"4. Count specific elements appeared?\")\n",
    "chc = int(input(\"Enter Choice : \"))\n",
    "\n",
    "if chc == 1:\n",
    "    print(\"Original List :\",list1)\n",
    "    list1.reverse()\n",
    "    print(\"New List :\",list1)\n",
    "    \n",
    "elif chc == 2:\n",
    "    list1.sort()\n",
    "    print(\"Sorted List :\",list1)\n",
    "    \n",
    "elif chc == 3:\n",
    "    print(\"Length of list is\",len(list1))\n",
    "    \n",
    "elif chc == 4:\n",
    "    ct = input(\"Enter which element to count : \")\n",
    "    print(\"The count of\",ct,\"is :\",list1.count(ct))\n",
    "\n",
    "else:\n",
    "    print(\"Invalid Choice!\")"
   ]
  },
  {
   "cell_type": "code",
   "execution_count": null,
   "metadata": {},
   "outputs": [],
   "source": []
  }
 ],
 "metadata": {
  "kernelspec": {
   "display_name": "Python 3",
   "language": "python",
   "name": "python3"
  },
  "language_info": {
   "codemirror_mode": {
    "name": "ipython",
    "version": 3
   },
   "file_extension": ".py",
   "mimetype": "text/x-python",
   "name": "python",
   "nbconvert_exporter": "python",
   "pygments_lexer": "ipython3",
   "version": "3.8.5"
  }
 },
 "nbformat": 4,
 "nbformat_minor": 4
}
