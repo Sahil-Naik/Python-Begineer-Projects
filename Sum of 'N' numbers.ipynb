{
 "cells": [
  {
   "cell_type": "code",
   "execution_count": 3,
   "metadata": {},
   "outputs": [
    {
     "name": "stdout",
     "output_type": "stream",
     "text": [
      "Enter addition for n natural numbers : 7\n",
      "Addition is :  28\n"
     ]
    }
   ],
   "source": [
    "num = int(input(\"Enter addition for n natural numbers : \"))\n",
    "if num < 0:\n",
    "    print(\"Enter positive nautral number!\")\n",
    "else:\n",
    "    sum1 = 0\n",
    "    while (num > 0):\n",
    "        sum1 += num\n",
    "        num -= 1\n",
    "    print(\"Addition is : \",sum1)"
   ]
  },
  {
   "cell_type": "code",
   "execution_count": null,
   "metadata": {},
   "outputs": [],
   "source": []
  }
 ],
 "metadata": {
  "kernelspec": {
   "display_name": "Python 3",
   "language": "python",
   "name": "python3"
  },
  "language_info": {
   "codemirror_mode": {
    "name": "ipython",
    "version": 3
   },
   "file_extension": ".py",
   "mimetype": "text/x-python",
   "name": "python",
   "nbconvert_exporter": "python",
   "pygments_lexer": "ipython3",
   "version": "3.8.5"
  }
 },
 "nbformat": 4,
 "nbformat_minor": 4
}
