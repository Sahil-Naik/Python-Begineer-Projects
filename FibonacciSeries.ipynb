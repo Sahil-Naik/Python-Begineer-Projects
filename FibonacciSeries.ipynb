{
 "cells": [
  {
   "cell_type": "code",
   "execution_count": 3,
   "metadata": {},
   "outputs": [
    {
     "name": "stdout",
     "output_type": "stream",
     "text": [
      "Enter number of terms : 5\n",
      "Fibonacci Series : \n",
      "0\n",
      "1\n",
      "1\n",
      "2\n",
      "3\n"
     ]
    }
   ],
   "source": [
    "def fibo_rec(n):\n",
    "    if n <= 1:\n",
    "        return(n)\n",
    "    else:\n",
    "        return(fibo_rec(n-1) + fibo_rec(n-2))\n",
    "ntrms = int(input(\"Enter number of terms : \"))\n",
    "if ntrms < 0:\n",
    "    print(\"Enter positive integer!\")\n",
    "else:\n",
    "    print(\"Fibonacci Series : \")\n",
    "    for i in range(ntrms):\n",
    "        print(fibo_rec(i))\n"
   ]
  },
  {
   "cell_type": "code",
   "execution_count": 2,
   "metadata": {},
   "outputs": [
    {
     "name": "stdout",
     "output_type": "stream",
     "text": [
      "Enter upper limit : 6\n",
      "1 2 3 5 8 13 "
     ]
    }
   ],
   "source": [
    "terms = int(input(\"Enter upper limit : \"))\n",
    "f1=0\n",
    "f2=1\n",
    "for i in range(terms):\n",
    "    f3=f1+f2\n",
    "    f1=f2\n",
    "    f2=f3\n",
    "    print(f3, end=\" \")"
   ]
  },
  {
   "cell_type": "code",
   "execution_count": null,
   "metadata": {},
   "outputs": [],
   "source": []
  }
 ],
 "metadata": {
  "kernelspec": {
   "display_name": "Python 3",
   "language": "python",
   "name": "python3"
  },
  "language_info": {
   "codemirror_mode": {
    "name": "ipython",
    "version": 3
   },
   "file_extension": ".py",
   "mimetype": "text/x-python",
   "name": "python",
   "nbconvert_exporter": "python",
   "pygments_lexer": "ipython3",
   "version": "3.8.5"
  }
 },
 "nbformat": 4,
 "nbformat_minor": 4
}
