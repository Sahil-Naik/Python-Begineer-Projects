{
 "cells": [
  {
   "cell_type": "code",
   "execution_count": null,
   "metadata": {},
   "outputs": [],
   "source": [
    "ch1 = input(\"Enter a string : \")\n",
    "v = 0\n",
    "c = 0\n",
    "for ch in ch1:\n",
    "    if (ch==\"A\" or ch==\"E\" or ch==\"I\" or ch==\"O\" or ch==\"U\" or ch==\"a\" or ch==\"e\" or ch==\"i\" or ch==\"o\" or ch==\"u\"):\n",
    "        v = v+1\n",
    "    else:\n",
    "        c = c+1\n",
    "print(\"Our given string is :\",ch1)\n",
    "print(\"Vowels are :\",v)\n",
    "print(\"Constants are :\",c)"
   ]
  }
 ],
 "metadata": {
  "kernelspec": {
   "display_name": "Python 3",
   "language": "python",
   "name": "python3"
  },
  "language_info": {
   "codemirror_mode": {
    "name": "ipython",
    "version": 3
   },
   "file_extension": ".py",
   "mimetype": "text/x-python",
   "name": "python",
   "nbconvert_exporter": "python",
   "pygments_lexer": "ipython3",
   "version": "3.8.5"
  }
 },
 "nbformat": 4,
 "nbformat_minor": 4
}
