{
 "cells": [
  {
   "cell_type": "code",
   "execution_count": 6,
   "metadata": {},
   "outputs": [
    {
     "name": "stdout",
     "output_type": "stream",
     "text": [
      "Enter a String : Hello\n",
      "Enter a String : what\n",
      "Length of string 1 is : 5\n",
      "Length of string 2 is : 5\n",
      "Reverse of string 1 is : olleH\n",
      "Reverse of string 1 is : tahw\n",
      "Given strings are Same? False\n",
      "Given String is not Palindrome!\n",
      "Start of string slicing : 3\n",
      "End of string slicing : 5\n",
      "Substring of given string is lo\n",
      "Enter string to find in given string : l\n",
      "We have found l\n"
     ]
    }
   ],
   "source": [
    "a = input(\"Enter a String : \")\n",
    "b = input(\"Enter a String : \")\n",
    "print(\"Length of string 1 is :\",len(a))\n",
    "print(\"Length of string 2 is :\",len(a))\n",
    "print(\"Reverse of string 1 is :\",a[::-1])\n",
    "print(\"Reverse of string 1 is :\",b[::-1])\n",
    "print(\"Given strings are Same?\",a==b)\n",
    "k = a[::-1]\n",
    "if k == a:\n",
    "    print(\"Given String is Palindrome!\")\n",
    "else:\n",
    "    print(\"Given String is not Palindrome!\")\n",
    "l1 = int(input(\"Start of string slicing : \"))\n",
    "l2 = int(input(\"End of string slicing : \"))\n",
    "if l2 < l1 :\n",
    "    print(\"End cant be before start!\")\n",
    "else:\n",
    "    print(\"Substring of given string is\",a[l1:l2])\n",
    "fnd = input(\"Enter string to find in given string : \")\n",
    "for m in range(len(a)):\n",
    "    if fnd == str(m):\n",
    "        print(\"No results found!\")\n",
    "    else:      \n",
    "        print(\"We have found\",fnd)  \n",
    "        break"
   ]
  },
  {
   "cell_type": "code",
   "execution_count": 17,
   "metadata": {},
   "outputs": [
    {
     "name": "stdout",
     "output_type": "stream",
     "text": [
      "Enter a string : hello\n",
      "Our given string is : hello\n",
      "Vowels are : 2\n",
      "Constants are : 3\n"
     ]
    }
   ],
   "source": [
    "ch1 = input(\"Enter a string : \")\n",
    "v = 0\n",
    "c = 0\n",
    "for ch in ch1:\n",
    "    if (ch==\"A\" or ch==\"E\" or ch==\"I\" or ch==\"O\" or ch==\"U\" or ch==\"a\" or ch==\"e\" or ch==\"i\" or ch==\"o\" or ch==\"u\"):\n",
    "        v = v+1\n",
    "    else:\n",
    "        c = c+1\n",
    "print(\"Our given string is :\",ch1)\n",
    "print(\"Vowels are :\",v)\n",
    "print(\"Constants are :\",c)"
   ]
  },
  {
   "cell_type": "code",
   "execution_count": null,
   "metadata": {},
   "outputs": [],
   "source": []
  }
 ],
 "metadata": {
  "kernelspec": {
   "display_name": "Python 3",
   "language": "python",
   "name": "python3"
  },
  "language_info": {
   "codemirror_mode": {
    "name": "ipython",
    "version": 3
   },
   "file_extension": ".py",
   "mimetype": "text/x-python",
   "name": "python",
   "nbconvert_exporter": "python",
   "pygments_lexer": "ipython3",
   "version": "3.8.5"
  }
 },
 "nbformat": 4,
 "nbformat_minor": 4
}
