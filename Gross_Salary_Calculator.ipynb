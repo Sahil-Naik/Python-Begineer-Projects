{
 "cells": [
  {
   "cell_type": "code",
   "execution_count": 3,
   "metadata": {},
   "outputs": [
    {
     "name": "stdout",
     "output_type": "stream",
     "text": [
      "Enter Basic Pay : 3400\n",
      "Gross Salary :-  3910.0\n",
      "Net Salary :-  3440.8\n"
     ]
    }
   ],
   "source": [
    "b_p = int(input(\"Enter Basic Pay : \"))    #take basicpay from user\n",
    "hra = b_p * 10/100                        #Calculate HRA\n",
    "ta = b_p * 5/100                          #Calculate Allowance\n",
    "g_s = b_p + hra + ta                      #Calculate Gross Salary\n",
    "p_t = g_s * 12/100                        #Calculate ProfessionalTax\n",
    "n_s = g_s - p_t                           #Calculate Net Salary\n",
    "print(\"Gross Salary :- \",g_s)             #Print Gross Salary\n",
    "print(\"Net Salary :- \",n_s)               #Print Net Salary"
   ]
  },
  {
   "cell_type": "code",
   "execution_count": null,
   "metadata": {},
   "outputs": [],
   "source": []
  }
 ],
 "metadata": {
  "kernelspec": {
   "display_name": "Python 3",
   "language": "python",
   "name": "python3"
  },
  "language_info": {
   "codemirror_mode": {
    "name": "ipython",
    "version": 3
   },
   "file_extension": ".py",
   "mimetype": "text/x-python",
   "name": "python",
   "nbconvert_exporter": "python",
   "pygments_lexer": "ipython3",
   "version": "3.8.5"
  }
 },
 "nbformat": 4,
 "nbformat_minor": 4
}
