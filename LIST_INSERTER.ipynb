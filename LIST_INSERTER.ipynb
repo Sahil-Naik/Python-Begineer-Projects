{
 "cells": [
  {
   "cell_type": "code",
   "execution_count": 16,
   "metadata": {},
   "outputs": [
    {
     "name": "stdout",
     "output_type": "stream",
     "text": [
      "Enter number of elements to insert : 3\n",
      "Enter number to insert in list : 10\n",
      "Enter number to insert in list : 20\n",
      "Enter number to insert in list : 20\n",
      "\n",
      "List =  [10, 20, 20]\n",
      "\n",
      "Greatest number from List is 20\n",
      "\n",
      "Smallest number from list is 10\n",
      "\n",
      "Sum of numbers from list is, 50\n",
      "\n",
      "Average of numbers from list is 16.666666666666668\n"
     ]
    }
   ],
   "source": [
    "n = int(input(\"Enter number of elements to insert : \"))\n",
    "list1 = []\n",
    "s1 = 0\n",
    "avg = 0\n",
    "if n == 0:\n",
    "    print(\"No elements can be inserted!\")\n",
    "    print(\"Empty list :\",list1)\n",
    "elif n > 0:\n",
    "    for i in range(0,n):\n",
    "        tp = int(input(\"Enter number to insert in list : \"))\n",
    "        list1.append(tp)\n",
    "    print(\"\\nList = \",list1)\n",
    "else:\n",
    "    print(\"Enter positive integer only!\")\n",
    "    \n",
    "#Sum of numbers from list \n",
    "for ele in range(0,len(list1)):\n",
    "    s1 = s1 + list1[ele]\n",
    "    \n",
    "#Average of numbers from list\n",
    "avg = s1/len(list1)\n",
    "\n",
    "#Greatest from list\n",
    "list1.sort()\n",
    "\n",
    "#Results\n",
    "print(\"\\nGreatest number from List is\",list1[-1])\n",
    "print(\"\\nSmallest number from list is\",list1[0])\n",
    "print(\"\\nSum of numbers from list is\",s1)\n",
    "print(\"\\nAverage of numbers from list is\",avg)"
   ]
  },
  {
   "cell_type": "code",
   "execution_count": null,
   "metadata": {},
   "outputs": [],
   "source": []
  }
 ],
 "metadata": {
  "kernelspec": {
   "display_name": "Python 3",
   "language": "python",
   "name": "python3"
  },
  "language_info": {
   "codemirror_mode": {
    "name": "ipython",
    "version": 3
   },
   "file_extension": ".py",
   "mimetype": "text/x-python",
   "name": "python",
   "nbconvert_exporter": "python",
   "pygments_lexer": "ipython3",
   "version": "3.8.5"
  }
 },
 "nbformat": 4,
 "nbformat_minor": 4
}
